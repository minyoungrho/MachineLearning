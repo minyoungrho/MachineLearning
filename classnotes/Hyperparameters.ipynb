{
 "cells": [
  {
   "cell_type": "markdown",
   "metadata": {},
   "source": [
    "# Tuning Hyperparameters\n",
    "\n",
    "Each estimators (linear regressions, nearest neighbors, support vector machines, XGBoost, and etc.) has its own set of hyperparameters to be selected/tuned. [Further Reading](https://scikit-learn.org/stable/modules/grid_search.html)\n",
    "\n",
    "A search consists of:\n",
    "1. An estimator/model\n",
    "2. A parameter space\n",
    "3. A method for searching or sampling candidates\n",
    "4. A cross validation scheme (refer to the concept [k-fold cross validation](https://machinelearningmastery.com/k-fold-cross-validation/))\n",
    "5. A score function\n",
    "\n",
    "We \"search\" among the set of parameters that leads to better models. Better models can be quantified using scores such as **mean squared errors** and **accuracy score**. [Further Reading](https://scikit-learn.org/stable/modules/model_evaluation.html)"
   ]
  },
  {
   "cell_type": "code",
   "execution_count": 24,
   "metadata": {
    "scrolled": true
   },
   "outputs": [
    {
     "data": {
      "text/html": [
       "<div>\n",
       "<style scoped>\n",
       "    .dataframe tbody tr th:only-of-type {\n",
       "        vertical-align: middle;\n",
       "    }\n",
       "\n",
       "    .dataframe tbody tr th {\n",
       "        vertical-align: top;\n",
       "    }\n",
       "\n",
       "    .dataframe thead th {\n",
       "        text-align: right;\n",
       "    }\n",
       "</style>\n",
       "<table border=\"1\" class=\"dataframe\">\n",
       "  <thead>\n",
       "    <tr style=\"text-align: right;\">\n",
       "      <th></th>\n",
       "      <th>income</th>\n",
       "      <th>score</th>\n",
       "      <th>internet_connection</th>\n",
       "    </tr>\n",
       "  </thead>\n",
       "  <tbody>\n",
       "    <tr>\n",
       "      <th>0</th>\n",
       "      <td>69.454075</td>\n",
       "      <td>635.305372</td>\n",
       "      <td>1</td>\n",
       "    </tr>\n",
       "    <tr>\n",
       "      <th>1</th>\n",
       "      <td>47.632800</td>\n",
       "      <td>743.301322</td>\n",
       "      <td>1</td>\n",
       "    </tr>\n",
       "    <tr>\n",
       "      <th>2</th>\n",
       "      <td>22.905094</td>\n",
       "      <td>673.037833</td>\n",
       "      <td>1</td>\n",
       "    </tr>\n",
       "    <tr>\n",
       "      <th>3</th>\n",
       "      <td>4.465032</td>\n",
       "      <td>442.894112</td>\n",
       "      <td>0</td>\n",
       "    </tr>\n",
       "    <tr>\n",
       "      <th>4</th>\n",
       "      <td>19.360381</td>\n",
       "      <td>627.178633</td>\n",
       "      <td>1</td>\n",
       "    </tr>\n",
       "    <tr>\n",
       "      <th>...</th>\n",
       "      <td>...</td>\n",
       "      <td>...</td>\n",
       "      <td>...</td>\n",
       "    </tr>\n",
       "    <tr>\n",
       "      <th>995</th>\n",
       "      <td>8.801915</td>\n",
       "      <td>464.993872</td>\n",
       "      <td>0</td>\n",
       "    </tr>\n",
       "    <tr>\n",
       "      <th>996</th>\n",
       "      <td>15.317348</td>\n",
       "      <td>641.288260</td>\n",
       "      <td>1</td>\n",
       "    </tr>\n",
       "    <tr>\n",
       "      <th>997</th>\n",
       "      <td>25.411924</td>\n",
       "      <td>641.858088</td>\n",
       "      <td>1</td>\n",
       "    </tr>\n",
       "    <tr>\n",
       "      <th>998</th>\n",
       "      <td>4.898013</td>\n",
       "      <td>447.408180</td>\n",
       "      <td>0</td>\n",
       "    </tr>\n",
       "    <tr>\n",
       "      <th>999</th>\n",
       "      <td>68.887983</td>\n",
       "      <td>655.180048</td>\n",
       "      <td>1</td>\n",
       "    </tr>\n",
       "  </tbody>\n",
       "</table>\n",
       "<p>1000 rows × 3 columns</p>\n",
       "</div>"
      ],
      "text/plain": [
       "        income       score  internet_connection\n",
       "0    69.454075  635.305372                    1\n",
       "1    47.632800  743.301322                    1\n",
       "2    22.905094  673.037833                    1\n",
       "3     4.465032  442.894112                    0\n",
       "4    19.360381  627.178633                    1\n",
       "..         ...         ...                  ...\n",
       "995   8.801915  464.993872                    0\n",
       "996  15.317348  641.288260                    1\n",
       "997  25.411924  641.858088                    1\n",
       "998   4.898013  447.408180                    0\n",
       "999  68.887983  655.180048                    1\n",
       "\n",
       "[1000 rows x 3 columns]"
      ]
     },
     "execution_count": 24,
     "metadata": {},
     "output_type": "execute_result"
    }
   ],
   "source": [
    "import numpy as np\n",
    "import pandas as pd\n",
    "from matplotlib import pyplot as plt\n",
    "import seaborn as sns\n",
    "data = pd.read_csv(\"../data/scores_synth.csv\")\n",
    "data"
   ]
  },
  {
   "cell_type": "markdown",
   "metadata": {},
   "source": [
    "## Exhaustive Grid Search"
   ]
  },
  {
   "cell_type": "code",
   "execution_count": 25,
   "metadata": {},
   "outputs": [],
   "source": [
    "param_grid = {}\n",
    "param_grid['criterion'] = ['squared_error', 'absolute_error']\n",
    "param_grid['max_depth'] = list(range(2,5))\n",
    "param_grid['min_samples_split'] = list(range(2,10,2))"
   ]
  },
  {
   "cell_type": "code",
   "execution_count": 45,
   "metadata": {
    "scrolled": true
   },
   "outputs": [
    {
     "name": "stdout",
     "output_type": "stream",
     "text": [
      "criterion           ['squared_error', 'absolute_error']\n",
      "max_depth           [2, 3, 4]\n",
      "min_samples_split   [2, 4, 6, 8]\n"
     ]
    }
   ],
   "source": [
    "for key, value in param_grid.items():\n",
    "    print(f'{key:20}{value}')"
   ]
  },
  {
   "cell_type": "code",
   "execution_count": 27,
   "metadata": {},
   "outputs": [],
   "source": [
    "from sklearn.ensemble import RandomForestRegressor\n",
    "from sklearn.model_selection import GridSearchCV\n",
    "from sklearn.metrics import mean_squared_error\n",
    "from sklearn.metrics import mean_absolute_error\n",
    "\n",
    "gsearch = GridSearchCV(RandomForestRegressor(),param_grid,cv=3) "
   ]
  },
  {
   "cell_type": "code",
   "execution_count": 28,
   "metadata": {
    "scrolled": false
   },
   "outputs": [
    {
     "data": {
      "text/plain": [
       "GridSearchCV(cv=3, estimator=RandomForestRegressor(),\n",
       "             param_grid={'criterion': ['squared_error', 'absolute_error'],\n",
       "                         'max_depth': [2, 3, 4],\n",
       "                         'min_samples_split': [2, 4, 6, 8]})"
      ]
     },
     "execution_count": 28,
     "metadata": {},
     "output_type": "execute_result"
    }
   ],
   "source": [
    "gsearch.fit(data[['income']], data['score']) "
   ]
  },
  {
   "cell_type": "code",
   "execution_count": 29,
   "metadata": {},
   "outputs": [
    {
     "name": "stdout",
     "output_type": "stream",
     "text": [
      "{'criterion': 'absolute_error', 'max_depth': 3, 'min_samples_split': 6}\n"
     ]
    }
   ],
   "source": [
    "print(gsearch.best_params_) \n"
   ]
  },
  {
   "cell_type": "code",
   "execution_count": 30,
   "metadata": {
    "scrolled": false
   },
   "outputs": [
    {
     "name": "stdout",
     "output_type": "stream",
     "text": [
      "{'Random Forest: GridSearch': 45.391040566709016}\n"
     ]
    }
   ],
   "source": [
    "losses = {}\n",
    "losses['Random Forest: GridSearch'] = mean_absolute_error(y_test, gsearch.predict(X_test))\n",
    "print(losses)"
   ]
  },
  {
   "cell_type": "markdown",
   "metadata": {},
   "source": [
    "## Randomized Search"
   ]
  },
  {
   "cell_type": "code",
   "execution_count": 37,
   "metadata": {
    "scrolled": true
   },
   "outputs": [
    {
     "data": {
      "text/plain": [
       "RandomizedSearchCV(estimator=RandomForestRegressor(), n_iter=1,\n",
       "                   param_distributions={'criterion': ['squared_error',\n",
       "                                                      'absolute_error'],\n",
       "                                        'max_depth': [2, 3, 4],\n",
       "                                        'min_samples_split': [2, 4, 6, 8]})"
      ]
     },
     "execution_count": 37,
     "metadata": {},
     "output_type": "execute_result"
    }
   ],
   "source": [
    "from sklearn.model_selection import RandomizedSearchCV\n",
    "\n",
    "rsearch = RandomizedSearchCV(RandomForestRegressor(),param_grid,n_iter=1) \n",
    "rsearch.fit(X_train, y_train)\n"
   ]
  },
  {
   "cell_type": "code",
   "execution_count": 38,
   "metadata": {},
   "outputs": [
    {
     "name": "stdout",
     "output_type": "stream",
     "text": [
      "{'min_samples_split': 4, 'max_depth': 4, 'criterion': 'squared_error'}\n"
     ]
    }
   ],
   "source": [
    "print(rsearch.best_params_) "
   ]
  },
  {
   "cell_type": "code",
   "execution_count": 43,
   "metadata": {},
   "outputs": [
    {
     "name": "stdout",
     "output_type": "stream",
     "text": [
      "Random Forest: GridSearch     45.391040566709016\n",
      "Random Forest: Random Search  48.30231651125688\n"
     ]
    }
   ],
   "source": [
    "losses['Random Forest: Random Search'] = mean_absolute_error(y_test, rsearch.predict(X_test))\n",
    "for key, value in losses.items():\n",
    "    print(f'{key:30}{value}')"
   ]
  }
 ],
 "metadata": {
  "kernelspec": {
   "display_name": "Python 3",
   "language": "python",
   "name": "python3"
  },
  "language_info": {
   "codemirror_mode": {
    "name": "ipython",
    "version": 3
   },
   "file_extension": ".py",
   "mimetype": "text/x-python",
   "name": "python",
   "nbconvert_exporter": "python",
   "pygments_lexer": "ipython3",
   "version": "3.8.5"
  }
 },
 "nbformat": 4,
 "nbformat_minor": 4
}
